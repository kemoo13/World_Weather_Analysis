{
 "cells": [
  {
   "cell_type": "code",
   "execution_count": 1,
   "id": "75002d18",
   "metadata": {},
   "outputs": [],
   "source": [
    "import random"
   ]
  },
  {
   "cell_type": "code",
   "execution_count": 2,
   "id": "149ce6a2",
   "metadata": {},
   "outputs": [
    {
     "data": {
      "text/plain": [
       "0.24959163686303"
      ]
     },
     "execution_count": 2,
     "metadata": {},
     "output_type": "execute_result"
    }
   ],
   "source": [
    "# Get a single floating-point decimal between 0 and 10\n",
    "random.random()"
   ]
  },
  {
   "cell_type": "code",
   "execution_count": 3,
   "id": "ef685871",
   "metadata": {},
   "outputs": [
    {
     "data": {
      "text/plain": [
       "13"
      ]
     },
     "execution_count": 3,
     "metadata": {},
     "output_type": "execute_result"
    }
   ],
   "source": [
    "# Get a random integer between -90 and 90\n",
    "random.randint(-90,90)"
   ]
  },
  {
   "cell_type": "code",
   "execution_count": 4,
   "id": "6f4d98a1",
   "metadata": {},
   "outputs": [
    {
     "data": {
      "text/plain": [
       "3"
      ]
     },
     "execution_count": 4,
     "metadata": {},
     "output_type": "execute_result"
    }
   ],
   "source": [
    "random.randrange(-9,9,2)"
   ]
  },
  {
   "cell_type": "code",
   "execution_count": 5,
   "id": "83c79036",
   "metadata": {},
   "outputs": [
    {
     "data": {
      "text/plain": [
       "-2.908355844913073"
      ]
     },
     "execution_count": 5,
     "metadata": {},
     "output_type": "execute_result"
    }
   ],
   "source": [
    "# generate a random floating-point number between two given numbers\n",
    "random.uniform(-10,10)"
   ]
  },
  {
   "cell_type": "code",
   "execution_count": 7,
   "id": "71c76c3c",
   "metadata": {},
   "outputs": [
    {
     "data": {
      "text/plain": [
       "[45.993812092710606,\n",
       " -65.60851657078902,\n",
       " 9.107163451292745,\n",
       " 15.099288498818309,\n",
       " -63.86945413800215,\n",
       " -5.752829334440896,\n",
       " 35.152316853653595,\n",
       " 81.83297544644161,\n",
       " -53.24290933151034,\n",
       " -20.376554189403382]"
      ]
     },
     "execution_count": 7,
     "metadata": {},
     "output_type": "execute_result"
    }
   ],
   "source": [
    "# for the purpose of this study, lets try combining the random() funct and the random.randint() funct to get a floating point decimal \n",
    "# between -90 and 90 to generate a random latitude\n",
    "\n",
    "x = 1\n",
    "latitudes = []\n",
    "while x < 11:\n",
    "    random_lat = random.randint(-90, 89) + random.random()\n",
    "    latitudes.append(random_lat)\n",
    "    x += 1\n",
    "\n",
    "latitudes"
   ]
  },
  {
   "cell_type": "code",
   "execution_count": 8,
   "id": "add32017",
   "metadata": {},
   "outputs": [
    {
     "data": {
      "text/plain": [
       "18"
      ]
     },
     "execution_count": 8,
     "metadata": {},
     "output_type": "execute_result"
    }
   ],
   "source": [
    "random.randrange(-90, 90, step=1)"
   ]
  },
  {
   "cell_type": "code",
   "execution_count": 9,
   "id": "4d8eaa79",
   "metadata": {},
   "outputs": [
    {
     "data": {
      "text/plain": [
       "-59"
      ]
     },
     "execution_count": 9,
     "metadata": {},
     "output_type": "execute_result"
    }
   ],
   "source": [
    "# use the previous function but adding step=INT where the integer you set this equal to will generate increments of \n",
    "# a given integer value from the lower to the upper limit\n",
    "\n",
    "random.randrange(-90, 90, step=1)"
   ]
  },
  {
   "cell_type": "code",
   "execution_count": 10,
   "id": "735605b1",
   "metadata": {},
   "outputs": [
    {
     "data": {
      "text/plain": [
       "-21"
      ]
     },
     "execution_count": 10,
     "metadata": {},
     "output_type": "execute_result"
    }
   ],
   "source": [
    "random.randrange(-90,90, step=3)"
   ]
  },
  {
   "cell_type": "code",
   "execution_count": 11,
   "id": "d6eb3546",
   "metadata": {},
   "outputs": [],
   "source": [
    "# Import the numpy module\n",
    "import numpy as np"
   ]
  },
  {
   "cell_type": "code",
   "execution_count": 12,
   "id": "ab07d97c",
   "metadata": {},
   "outputs": [
    {
     "data": {
      "text/plain": [
       "-54.617898975364426"
      ]
     },
     "execution_count": 12,
     "metadata": {},
     "output_type": "execute_result"
    }
   ],
   "source": [
    "np.random.uniform(-90.000, 90.000)\n",
    "\n",
    "# can also be written as np.random.uniform(low=-90, high=90)"
   ]
  },
  {
   "cell_type": "code",
   "execution_count": 13,
   "id": "521c0026",
   "metadata": {},
   "outputs": [
    {
     "data": {
      "text/plain": [
       "array([-83.82568155,  69.81485283,   1.26410337,   9.30780576,\n",
       "         8.71742295,  15.02855202,  36.50350189, -42.90314498,\n",
       "        71.01647547, -80.10432353,  10.85474095, -75.29801877,\n",
       "         8.41216289, -84.65662514, -76.68024596,  79.58149028,\n",
       "       -58.50470482, -20.69820948, -47.58306119,  14.7036219 ,\n",
       "       -60.87531583, -27.9494795 ,  19.20888435, -63.65620284,\n",
       "       -54.00008367,  -2.85473149, -51.22208288, -18.7479943 ,\n",
       "       -62.03301093, -69.88331149, -78.4703931 ,  18.39232324,\n",
       "       -20.50669581,  23.10349211,  59.7696518 ,  78.27195048,\n",
       "        64.0563949 ,  82.45435052,  31.52285356,   7.52158068,\n",
       "       -64.26939074,  60.37293548, -47.24793919, -48.42935193,\n",
       "        63.38418604, -20.01798955, -50.15790702,  25.11841317,\n",
       "       -41.2486429 , -86.15928514])"
      ]
     },
     "execution_count": 13,
     "metadata": {},
     "output_type": "execute_result"
    }
   ],
   "source": [
    "np.random.uniform(-90.000, 90.000, size=50)"
   ]
  },
  {
   "cell_type": "code",
   "execution_count": 19,
   "id": "88e5427a",
   "metadata": {},
   "outputs": [],
   "source": [
    "# This is getting closer to what we need for the module challenge. We need 1500 lat and long points, just need to increase the\n",
    "# parameter size for 1500"
   ]
  },
  {
   "cell_type": "code",
   "execution_count": 20,
   "id": "66e4fabf",
   "metadata": {},
   "outputs": [],
   "source": [
    "# First import timeit module, to test the amount of time that it takes to run the codes to compare\n",
    "import timeit"
   ]
  },
  {
   "cell_type": "code",
   "execution_count": 22,
   "id": "99652c3d",
   "metadata": {},
   "outputs": [
    {
     "name": "stdout",
     "output_type": "stream",
     "text": [
      "24.5 µs ± 3.69 µs per loop (mean ± std. dev. of 7 runs, 10000 loops each)\n"
     ]
    }
   ],
   "source": [
    "# test the time it takes to run the lats and long with this code\n",
    "%timeit np.random.uniform(-90.000, 90.000, size=1500)"
   ]
  },
  {
   "cell_type": "code",
   "execution_count": 24,
   "id": "666be13a",
   "metadata": {},
   "outputs": [
    {
     "name": "stdout",
     "output_type": "stream",
     "text": [
      "2.75 ms ± 284 µs per loop (mean ± std. dev. of 7 runs, 100 loops each)\n"
     ]
    }
   ],
   "source": [
    "# test if the previous while loop is faster or not\n",
    "def latitudes(size):\n",
    "    latitudes = []\n",
    "    x = 0\n",
    "    while x < (size):\n",
    "        random_lat = random.randint(-90, 90) + random.random()\n",
    "        latitudes.append(random_lat)\n",
    "        x += 1\n",
    "    return latitudes\n",
    "# Call the function with 1500.\n",
    "%timeit latitudes(1500)"
   ]
  },
  {
   "cell_type": "code",
   "execution_count": null,
   "id": "cf377fb2",
   "metadata": {},
   "outputs": [],
   "source": []
  }
 ],
 "metadata": {
  "kernelspec": {
   "display_name": "Python 3 (ipykernel)",
   "language": "python",
   "name": "python3"
  },
  "language_info": {
   "codemirror_mode": {
    "name": "ipython",
    "version": 3
   },
   "file_extension": ".py",
   "mimetype": "text/x-python",
   "name": "python",
   "nbconvert_exporter": "python",
   "pygments_lexer": "ipython3",
   "version": "3.7.13"
  }
 },
 "nbformat": 4,
 "nbformat_minor": 5
}
